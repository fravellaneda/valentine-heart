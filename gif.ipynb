{
 "cells": [
  {
   "cell_type": "code",
   "execution_count": 1,
   "id": "be27f0b9",
   "metadata": {},
   "outputs": [],
   "source": [
    "import os\n",
    "import numpy as np\n",
    "import matplotlib.pyplot as plt\n",
    "import imageio\n",
    "import math"
   ]
  },
  {
   "cell_type": "code",
   "execution_count": 2,
   "id": "4e7a88c8",
   "metadata": {},
   "outputs": [],
   "source": [
    "def AnimationFunction(array,a):\n",
    "    y = [(x**2)**(1/3)+0.9*(3.3-x**2)**(1/2)*np.sin(a*x*math.pi) for x in array]\n",
    "    return y"
   ]
  },
  {
   "cell_type": "code",
   "execution_count": 3,
   "id": "05b63ced",
   "metadata": {},
   "outputs": [
    {
     "data": {
      "text/plain": [
       "<Figure size 432x288 with 0 Axes>"
      ]
     },
     "metadata": {},
     "output_type": "display_data"
    }
   ],
   "source": [
    "# Creating the images, one for each 'a'\n",
    "for i,a in enumerate(np.linspace(0,20,50)):\n",
    "    x = np.linspace(-3.3**(1/2),3.3**(1/2),int((a+1)*100))\n",
    "\n",
    "    plt.plot(list(x),AnimationFunction(x,a), color='red')\n",
    "    plt.ylim(-1.7,2.5)\n",
    "    plt.xlim(-2,2)\n",
    "    plt.grid()\n",
    "    plt.title(r'$x^{\\frac{2}{3}}+0.9\\sqrt{(3.3-x^2)} \\cdot \\sin(a \\cdot \\pi \\cdot x)$', fontsize='xx-large')\n",
    "    plt.legend(['a='+str(round(a,2))],loc='lower left')\n",
    "    plt.savefig('./images/'+str(i)+'.png',bbox_inches='tight',facecolor =\"w\")\n",
    "    plt.clf()"
   ]
  },
  {
   "cell_type": "code",
   "execution_count": 4,
   "id": "81e78377",
   "metadata": {},
   "outputs": [],
   "source": [
    "# to create the gif \n",
    "with imageio.get_writer('mygif.gif',mode='I') as writer:\n",
    "    filenames = ['./images/'+str(i)+'.png' if i<50 else './images/'+str(99-i)+'.png' for i in range(0,100)]\n",
    "    for filename in filenames:\n",
    "        image=imageio.imread(filename)\n",
    "        writer.append_data(image)"
   ]
  },
  {
   "cell_type": "markdown",
   "id": "1dc842f1",
   "metadata": {},
   "source": [
    "<img src=\"mygif.gif\" width=\"400\" align=\"left\">"
   ]
  }
 ],
 "metadata": {
  "kernelspec": {
   "display_name": "Python 3",
   "language": "python",
   "name": "python3"
  },
  "language_info": {
   "codemirror_mode": {
    "name": "ipython",
    "version": 3
   },
   "file_extension": ".py",
   "mimetype": "text/x-python",
   "name": "python",
   "nbconvert_exporter": "python",
   "pygments_lexer": "ipython3",
   "version": "3.8.8"
  }
 },
 "nbformat": 4,
 "nbformat_minor": 5
}
