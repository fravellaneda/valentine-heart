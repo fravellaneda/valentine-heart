{
 "cells": [
  {
   "cell_type": "code",
   "execution_count": 1,
   "id": "5a7114a1",
   "metadata": {},
   "outputs": [],
   "source": [
    "import os\n",
    "import numpy as np\n",
    "import matplotlib.pyplot as plt\n",
    "import imageio\n",
    "import math"
   ]
  },
  {
   "cell_type": "code",
   "execution_count": 2,
   "id": "928d1658",
   "metadata": {},
   "outputs": [],
   "source": [
    "def AnimationFunction(array,a):\n",
    "    y = [(x**2)**(1/3)+0.9*(3.3-x**2)**(1/2)*np.sin(a*x*math.pi) for x in array]\n",
    "    return y"
   ]
  },
  {
   "cell_type": "code",
   "execution_count": 3,
   "id": "e0f4df60",
   "metadata": {},
   "outputs": [
    {
     "data": {
      "text/plain": [
       "<Figure size 432x288 with 0 Axes>"
      ]
     },
     "metadata": {},
     "output_type": "display_data"
    }
   ],
   "source": [
    "# For create the heart\n",
    "for i,a in enumerate(np.linspace(0,20,50)):\n",
    "    x = np.linspace(-3.3**(1/2),3.3**(1/2),int((a+1)*100))\n",
    "\n",
    "    plt.plot(list(x),AnimationFunction(x,a), color='red')\n",
    "    plt.ylim(-1.7,2.5)\n",
    "    plt.xlim(-2,2)\n",
    "    plt.grid()\n",
    "    plt.title(r'$x^{\\frac{2}{3}}+0.9\\sqrt{(3.3-x^2)} \\cdot \\sin(a \\cdot \\pi \\cdot x)$', fontsize='xx-large')\n",
    "    plt.legend(['a='+str(round(a,2))],loc='lower left')\n",
    "    plt.savefig('./images/'+str(i)+'.png',bbox_inches='tight',facecolor =\"w\")\n",
    "    plt.clf()"
   ]
  },
  {
   "cell_type": "code",
   "execution_count": 4,
   "id": "e97e87c6",
   "metadata": {},
   "outputs": [
    {
     "data": {
      "text/plain": [
       "<Figure size 432x288 with 0 Axes>"
      ]
     },
     "metadata": {},
     "output_type": "display_data"
    }
   ],
   "source": [
    "# For decreate the heart\n",
    "\n",
    "for i,a in enumerate(np.linspace(20,0,50)):\n",
    "    x = np.linspace(-3.3**(1/2),3.3**(1/2),int((a+1)*100))\n",
    "\n",
    "    plt.plot(list(x),AnimationFunction(x,a), color='red')\n",
    "    plt.ylim(-1.7,2.5)\n",
    "    plt.xlim(-2,2)\n",
    "    plt.grid()\n",
    "    plt.title(r'$x^{\\frac{2}{3}}+0.9\\sqrt{(3.3-x^2)} \\cdot \\sin(a \\cdot \\pi \\cdot x)$', fontsize='xx-large')\n",
    "    plt.legend(['a='+str(round(a,2))],loc='lower left')\n",
    "    plt.savefig('./images/'+str(i+50)+'.png',bbox_inches='tight',facecolor =\"w\")\n",
    "    plt.clf()"
   ]
  },
  {
   "cell_type": "code",
   "execution_count": 5,
   "id": "f5a62236",
   "metadata": {},
   "outputs": [],
   "source": [
    "# to create the gif \n",
    "with imageio.get_writer('mygif.gif',mode='I') as writer:\n",
    "    filenames = ['./images/'+str(i)+'.png' for i in range(0,100)]\n",
    "    for filename in filenames:\n",
    "        image=imageio.imread(filename)\n",
    "        writer.append_data(image)"
   ]
  },
  {
   "cell_type": "markdown",
   "id": "db5c29eb",
   "metadata": {},
   "source": [
    "<img src=\"mygif.gif\" width=\"400\" align=\"left\">"
   ]
  },
  {
   "cell_type": "code",
   "execution_count": null,
   "id": "48d1d259",
   "metadata": {},
   "outputs": [],
   "source": []
  }
 ],
 "metadata": {
  "kernelspec": {
   "display_name": "Python 3",
   "language": "python",
   "name": "python3"
  },
  "language_info": {
   "codemirror_mode": {
    "name": "ipython",
    "version": 3
   },
   "file_extension": ".py",
   "mimetype": "text/x-python",
   "name": "python",
   "nbconvert_exporter": "python",
   "pygments_lexer": "ipython3",
   "version": "3.8.8"
  }
 },
 "nbformat": 4,
 "nbformat_minor": 5
}
